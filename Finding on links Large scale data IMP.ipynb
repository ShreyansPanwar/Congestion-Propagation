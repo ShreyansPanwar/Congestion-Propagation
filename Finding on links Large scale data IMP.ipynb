{
 "cells": [
  {
   "cell_type": "code",
   "execution_count": 1,
   "metadata": {},
   "outputs": [],
   "source": [
    "import json\n",
    "import os\n",
    "import numpy as np\n",
    "import matplotlib.pyplot as plt"
   ]
  },
  {
   "cell_type": "code",
   "execution_count": 2,
   "metadata": {},
   "outputs": [],
   "source": [
    "k = open ('C:/Users/shrey/Downloads/LTA/TrafficIncidents/1-7 aug/All_1-7aug_accidents.json', \"r\")\n",
    "  \n",
    "# Reading from file\n",
    "data2 = json.loads(k.read())"
   ]
  },
  {
   "cell_type": "code",
   "execution_count": 3,
   "metadata": {},
   "outputs": [],
   "source": [
    "f = open('C:/Users/shrey/Downloads/LTA/NTU_congestion_project/Data_examples/LTA_DataMall_SpeedBand/speed-2022-08-01/23-59-02.json', \"r\")\n",
    "  \n",
    "# Reading from file\n",
    "speed_data = json.loads(f.read())"
   ]
  },
  {
   "cell_type": "code",
   "execution_count": 4,
   "metadata": {},
   "outputs": [
    {
     "data": {
      "text/plain": [
       "{'Type': 'Accident',\n",
       " 'Latitude': 1.4013194227247634,\n",
       " 'Longitude': 103.884074009618,\n",
       " 'Message': '(2/8)8:54 Accident on TPE (towards SLE) before Jalan Kayu Exit with congestion till Punggol Rd Exit. Avoid lane 1.'}"
      ]
     },
     "execution_count": 4,
     "metadata": {},
     "output_type": "execute_result"
    }
   ],
   "source": [
    "(data2[0])"
   ]
  },
  {
   "cell_type": "code",
   "execution_count": null,
   "metadata": {},
   "outputs": [],
   "source": []
  },
  {
   "cell_type": "code",
   "execution_count": 5,
   "metadata": {},
   "outputs": [],
   "source": [
    "DT = [] #list to store Date and Time of Accident.\n",
    "for i in range(len(data2)):\n",
    "    q = data2[i]['Message'][:10]\n",
    "    DT.append(q)"
   ]
  },
  {
   "cell_type": "code",
   "execution_count": null,
   "metadata": {},
   "outputs": [],
   "source": []
  },
  {
   "cell_type": "code",
   "execution_count": 6,
   "metadata": {},
   "outputs": [],
   "source": [
    "Location = [] #probably wont use this one\n",
    "for i in range(len(data2)):\n",
    "    q = data2[i]['Latitude']\n",
    "    w = data2[i]['Longitude']\n",
    "    Location.append(q)\n"
   ]
  },
  {
   "cell_type": "code",
   "execution_count": 7,
   "metadata": {},
   "outputs": [],
   "source": [
    "Expressway_acci = []\n",
    "Not_Expressway_acci = []\n",
    "for i in range(len(data2)):\n",
    "    v = data2[i]['Message'].split()\n",
    "    if len(v[3]) == 3:\n",
    "        Expressway_acci.append(data2[i])\n",
    "    else:\n",
    "        Not_Expressway_acci.append(data2[i])\n",
    "        \n",
    "    \n",
    "    "
   ]
  },
  {
   "cell_type": "markdown",
   "metadata": {},
   "source": [
    "# Finding the accident location automated (Aim is to get link ID)"
   ]
  },
  {
   "cell_type": "code",
   "execution_count": 8,
   "metadata": {},
   "outputs": [
    {
     "data": {
      "text/plain": [
       "4"
      ]
     },
     "execution_count": 8,
     "metadata": {},
     "output_type": "execute_result"
    }
   ],
   "source": [
    "len(Not_Expressway_acci)"
   ]
  },
  {
   "cell_type": "code",
   "execution_count": 9,
   "metadata": {},
   "outputs": [],
   "source": [
    "def locofind(La,Lo):\n",
    "    Linkid = []\n",
    "    Index = []\n",
    "            \n",
    "    for i in range(len(speed_data)):\n",
    "        l = speed_data[i]['Location'].split()\n",
    "        if float(l[0]) < La < float(l[2]) and float(l[1]) < Lo < float(l[3]):\n",
    "\n",
    "            Linkid.append(speed_data[i]['LinkID'])\n",
    "            Index.append(speed_data[i])\n",
    "\n",
    "        if float(l[0]) > La > float(l[2]) and float(l[1]) > Lo > float(l[3]):\n",
    "\n",
    "            Linkid.append(speed_data[i]['LinkID'])\n",
    "            Index.append(speed_data[i])  \n",
    "\n",
    "        if float(l[0]) < La < float(l[2]) and float(l[1]) > Lo >  float(l[3]):\n",
    "\n",
    "            Linkid.append(speed_data[i]['LinkID'])\n",
    "            Index.append(speed_data[i])\n",
    "                  \n",
    "        if float(l[0]) > La > float(l[2]) and float(l[1]) < Lo < float(l[3]):\n",
    "\n",
    "            Linkid.append(speed_data[i]['LinkID'])\n",
    "            Index.append(speed_data[i])\n",
    "               \n",
    "    return Index\n",
    "    \n",
    "\n",
    "    \n",
    "    \n",
    "    "
   ]
  },
  {
   "cell_type": "code",
   "execution_count": 18,
   "metadata": {},
   "outputs": [
    {
     "name": "stdout",
     "output_type": "stream",
     "text": [
      "{'Type': 'Accident', 'Latitude': 1.3266937334581121, 'Longitude': 103.82792158191496, 'Message': '(3/8)23:28 Accident on PIE (towards Changi Airport) after Stevens Rd Exit with congestion till Lornie Rd. Avoid lane 2.'}\n",
      "{'Type': 'Accident', 'Latitude': 1.3986890756669146, 'Longitude': 103.7739438553483, 'Message': '(4/8)8:04 Accident on BKE (towards PIE) after Mandai Rd Exit with congestion till Mandai Rd Exit. Avoid lane 2.'}\n",
      "{'Type': 'Accident', 'Latitude': 1.3356029703458778, 'Longitude': 103.81040256193145, 'Message': '(6/8)13:56 Accident on PIE (towards Changi Airport) before Lornie Rd. Avoid lane 1.'}\n",
      "{'Type': 'Accident', 'Latitude': 1.3939162015099051, 'Longitude': 103.82054841742597, 'Message': '(6/8)15:35 Accident on SLE (towards CTE) after Upper Thomson Rd Exit.'}\n",
      "{'Type': 'Accident', 'Latitude': 1.3284654630182815, 'Longitude': 103.82417263513013, 'Message': '(3/8)18:36 Accident on PIE (towards Tuas) after Stevens Rd Exit. Avoid lane 1.'}\n"
     ]
    }
   ],
   "source": [
    "# code to find location of each accident \n",
    "qq = 0\n",
    "for i in range(len(data2)):\n",
    "    a = data2[i]['Latitude']\n",
    "    b = data2[i]['Longitude']\n",
    "    r = locofind(a,b)\n",
    "    if (len(r)) == 0:\n",
    "        print(data2[i])\n",
    "    \n",
    "#     for j in range(len(r)):\n",
    "#         temp = r[j]['Location'].split()\n",
    "#         lati = float(temp[0]) + \n",
    "        \n",
    "        \n",
    "        \n",
    "\n",
    "    \n",
    "    "
   ]
  },
  {
   "cell_type": "code",
   "execution_count": 11,
   "metadata": {},
   "outputs": [
    {
     "data": {
      "text/plain": [
       "[]"
      ]
     },
     "execution_count": 11,
     "metadata": {},
     "output_type": "execute_result"
    }
   ],
   "source": [
    "locofind(1.3,103.8)"
   ]
  },
  {
   "cell_type": "code",
   "execution_count": 12,
   "metadata": {},
   "outputs": [],
   "source": [
    "# a = 0\n",
    "# for i in range(len(speed_data)):\n",
    "#     l = speed_data[i]['Location'].split()\n",
    "#     if float(l[0]) < float(l[2]) and float(l[1]) < float(l[3]):\n",
    "#         a = a+1\n",
    "#     if float(l[0]) > float(l[2]) and float(l[1]) > float(l[3]):\n",
    "#         a = a+1\n",
    "#     if float(l[0]) < float(l[2]) and float(l[1]) > float(l[3]):\n",
    "#         a = a+1\n",
    "#     if float(l[0]) > float(l[2]) and float(l[1]) < float(l[3]):\n",
    "#         a = a+1\n",
    "    \n",
    "    "
   ]
  },
  {
   "cell_type": "code",
   "execution_count": 13,
   "metadata": {},
   "outputs": [
    {
     "data": {
      "text/plain": [
       "1.317591790224953"
      ]
     },
     "execution_count": 13,
     "metadata": {},
     "output_type": "execute_result"
    }
   ],
   "source": [
    "a"
   ]
  },
  {
   "cell_type": "code",
   "execution_count": 14,
   "metadata": {},
   "outputs": [
    {
     "name": "stdout",
     "output_type": "stream",
     "text": [
      "{'LinkID': '103065684', 'RoadName': 'PAN ISLAND EXPRESSWAY', 'RoadCategory': 'F', 'SpeedBand': 8, 'MinimumSpeed': '70', 'MaximumSpeed': '999', 'Location': '1.3485811353445785 103.7900577763282 1.3497301976233893 103.79080841528499'}\n"
     ]
    }
   ],
   "source": [
    "for i in range(len(speed_data)):\n",
    "    if int(speed_data[i]['LinkID']) == 103065684:\n",
    "        print(speed_data[i])"
   ]
  },
  {
   "cell_type": "code",
   "execution_count": 15,
   "metadata": {},
   "outputs": [],
   "source": [
    "# a = 0\n",
    "# Linkid = []\n",
    "# Index = []\n",
    "# La  = 1.3239320750978771\n",
    "# Lo  = 103.81052613986486\n",
    "# for i in range(len(speed_data)):\n",
    "#     l = speed_data[i]['Location'].split()\n",
    "#     if float(l[0]) < La < float(l[2]) and float(l[1]) < Lo < float(l[3]):\n",
    "#         a = a+1\n",
    "#         Linkid.append(speed_data[i]['LinkID'])\n",
    "#         Index.append(speed_data[i])\n",
    "#     if float(l[0]) > La > float(l[2]) and float(l[1]) > Lo > float(l[3]):\n",
    "#         a = a+1\n",
    "#         Linkid.append(speed_data[i]['LinkID'])\n",
    "#         Index.append(speed_data[i])  \n",
    "#     if float(l[0]) < La < float(l[2]) and float(l[1]) > Lo >  float(l[3]):\n",
    "#         a = a+1\n",
    "#         Linkid.append(speed_data[i]['LinkID'])\n",
    "#         Index.append(speed_data[i])\n",
    "#     if float(l[0]) > La > float(l[2]) and float(l[1]) < Lo < float(l[3]):\n",
    "#         a = a+1\n",
    "#         Linkid.append(speed_data[i]['LinkID'])\n",
    "#         Index.append(speed_data[i])"
   ]
  },
  {
   "cell_type": "code",
   "execution_count": 16,
   "metadata": {},
   "outputs": [],
   "source": [
    "g = locofind(1.3243960530311614,103.80984670327119)"
   ]
  },
  {
   "cell_type": "code",
   "execution_count": 17,
   "metadata": {},
   "outputs": [
    {
     "data": {
      "text/plain": [
       "[{'LinkID': '104006698',\n",
       "  'RoadName': 'CENTRAL EXPRESSWAY',\n",
       "  'RoadCategory': 'A',\n",
       "  'SpeedBand': 8,\n",
       "  'MinimumSpeed': '70',\n",
       "  'MaximumSpeed': '999',\n",
       "  'Location': '1.3177377439717595 103.84973061887912 1.3175304032366988 103.84927967959541'},\n",
       " {'LinkID': '104006699',\n",
       "  'RoadName': 'CENTRAL EXPRESSWAY',\n",
       "  'RoadCategory': 'A',\n",
       "  'SpeedBand': 8,\n",
       "  'MinimumSpeed': '70',\n",
       "  'MaximumSpeed': '999',\n",
       "  'Location': '1.3175304032366988 103.84927967959541 1.3177377439717595 103.84973061887912'}]"
      ]
     },
     "execution_count": 17,
     "metadata": {},
     "output_type": "execute_result"
    }
   ],
   "source": [
    "r"
   ]
  },
  {
   "cell_type": "code",
   "execution_count": null,
   "metadata": {},
   "outputs": [],
   "source": []
  }
 ],
 "metadata": {
  "kernelspec": {
   "display_name": "Python 3",
   "language": "python",
   "name": "python3"
  },
  "language_info": {
   "codemirror_mode": {
    "name": "ipython",
    "version": 3
   },
   "file_extension": ".py",
   "mimetype": "text/x-python",
   "name": "python",
   "nbconvert_exporter": "python",
   "pygments_lexer": "ipython3",
   "version": "3.8.5"
  }
 },
 "nbformat": 4,
 "nbformat_minor": 4
}
